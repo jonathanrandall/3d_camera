{
 "cells": [
  {
   "cell_type": "code",
   "execution_count": 3,
   "metadata": {},
   "outputs": [],
   "source": [
    "import cv2\n",
    "import os\n"
   ]
  },
  {
   "cell_type": "code",
   "execution_count": 5,
   "metadata": {},
   "outputs": [],
   "source": [
    "def extract_frames(input_dir, output_dir):\n",
    "    # Create output directory if it doesn't exist\n",
    "    if not os.path.exists(output_dir):\n",
    "        os.makedirs(output_dir)\n",
    "\n",
    "    # Loop through each video file in the input directory\n",
    "    for filename in os.listdir(input_dir):\n",
    "        if filename.endswith(\".mp4\"):\n",
    "            video_path = os.path.join(input_dir, filename)\n",
    "            output_prefix = os.path.splitext(filename)[0]  # Extract the file name without extension\n",
    "\n",
    "            # Open the video file\n",
    "            cap = cv2.VideoCapture(video_path)\n",
    "\n",
    "            # Loop through each frame in the video\n",
    "            frame_count = 0\n",
    "            while cap.isOpened():\n",
    "                ret, frame = cap.read()\n",
    "                if not ret:\n",
    "                    break\n",
    "\n",
    "                frame_count += 1\n",
    "\n",
    "                # Write the frame to a JPEG file\n",
    "                output_filename = f\"{output_prefix}_{frame_count}.jpg\"\n",
    "                output_path = os.path.join(output_dir, output_filename)\n",
    "                cv2.imwrite(output_path, frame)\n",
    "\n",
    "            # Release the video capture object\n",
    "            cap.release()"
   ]
  },
  {
   "cell_type": "code",
   "execution_count": 6,
   "metadata": {},
   "outputs": [
    {
     "data": {
      "text/plain": [
       "False"
      ]
     },
     "execution_count": 6,
     "metadata": {},
     "output_type": "execute_result"
    }
   ],
   "source": [
    "input_directory = './from_pi/3d_camera/arducam/video_out'\n",
    "output_directory = './frames_out'\n",
    "\n",
    "os.path.exists(output_directory)\n"
   ]
  },
  {
   "cell_type": "code",
   "execution_count": 7,
   "metadata": {},
   "outputs": [],
   "source": [
    "extract_frames(input_directory, output_directory)"
   ]
  },
  {
   "cell_type": "code",
   "execution_count": 1,
   "metadata": {},
   "outputs": [],
   "source": [
    "#copy left and right images from the stereo image.\n",
    "import os\n",
    "import cv2\n",
    "\n",
    "def split_and_save_images(input_directory, output_left_directory, output_right_directory):\n",
    "    # Create output directories if they don't exist\n",
    "    os.makedirs(output_left_directory, exist_ok=True)\n",
    "    os.makedirs(output_right_directory, exist_ok=True)\n",
    "\n",
    "    # Get list of image files in the input directory, sorted alphabetically\n",
    "    image_files = sorted([file for file in os.listdir(input_directory) if file.endswith('.jpg')])\n",
    "\n",
    "    for filename in image_files:\n",
    "        # Read the image\n",
    "        image = cv2.imread(os.path.join(input_directory, filename))\n",
    "\n",
    "        # Get the height and width of the image\n",
    "        height, width, _ = image.shape\n",
    "\n",
    "        # Split the image into left and right halves\n",
    "        left_half = image[45:225, 40:280,:]\n",
    "        right_half = image[45:225, 360:600,:]\n",
    "        # cv2.imshow(\"image_left\",left_half)\n",
    "        # cv2.imshow(\"image_right\", right_half)\n",
    "        # while True:\n",
    "        #     key = cv2.waitKey(1)\n",
    "            \n",
    "        #     if key == ord(\"q\"):\n",
    "        #         return\n",
    "\n",
    "        # Construct output filenames for left and right halves\n",
    "        left_filename = os.path.splitext(filename)[0] + \"_l.jpg\"\n",
    "        right_filename = os.path.splitext(filename)[0] + \"_r.jpg\"\n",
    "\n",
    "        # Save left and right halves to the output directories\n",
    "        cv2.imwrite(os.path.join(output_left_directory, left_filename), left_half)\n",
    "        cv2.imwrite(os.path.join(output_right_directory, right_filename), right_half)\n",
    "\n",
    "# Input directory containing the original images\n",
    "input_directory = \"./frames_out/stereo_out\"\n",
    "\n",
    "# Output directories for left and right halves\n",
    "output_left_directory = \"./frames_out/stereo_out/left\"\n",
    "output_right_directory = \"./frames_out/stereo_out/right\"\n",
    "\n",
    "# Split and save images into left and right halves\n",
    "split_and_save_images(input_directory, output_left_directory, output_right_directory)\n"
   ]
  },
  {
   "cell_type": "code",
   "execution_count": null,
   "metadata": {},
   "outputs": [],
   "source": [
    "import os\n",
    "import cv2\n",
    "import numpy as np\n",
    "\n",
    "def load_images_from_directories(input_directory, output_directory):\n",
    "    # Get list of image files in the input directory, sorted alphabetically\n",
    "    input_image_files = sorted([file for file in os.listdir(input_directory) if file.endswith(('.jpg', '.jpeg', '.png'))])\n",
    "    \n",
    "    # Get list of image files in the output directory, sorted alphabetically\n",
    "    output_image_files = sorted([file for file in os.listdir(output_directory) if file.endswith(('.jpg', '.jpeg', '.png'))])\n",
    "\n",
    "    # Ensure the number of input images matches the number of output images\n",
    "    assert len(input_image_files) == len(output_image_files), \"Number of input images does not match number of output images\"\n",
    "\n",
    "    # Use list comprehension and zip to read both input and output images into two separate lists\n",
    "    input_images = [cv2.imread(os.path.join(input_directory, filename)) for filename in input_image_files]\n",
    "    output_images = [cv2.imread(os.path.join(output_directory, filename)) for filename in output_image_files]\n",
    "\n",
    "    # Convert the lists of images to numpy arrays\n",
    "    input_images_array = np.array(input_images)\n",
    "    output_images_array = np.array(output_images)\n",
    "\n",
    "    return input_images_array, output_images_array\n",
    "\n"
   ]
  },
  {
   "cell_type": "code",
   "execution_count": null,
   "metadata": {},
   "outputs": [],
   "source": [
    "# Directories containing the input and output images\n",
    "input_directory = \"path/to/your/input/image/directory\"\n",
    "output_directory = \"path/to/your/output/image/directory\"\n",
    "\n",
    "# Load images from the directories\n",
    "input_images, output_images = load_images_from_directories(input_directory, output_directory)\n",
    "\n",
    "# Print the shapes of the input and output image datasets\n",
    "print(\"Shape of input image dataset:\", input_images.shape)\n",
    "print(\"Shape of output image dataset:\", output_images.shape)\n"
   ]
  }
 ],
 "metadata": {
  "kernelspec": {
   "display_name": "3d_cam_env",
   "language": "python",
   "name": "python3"
  },
  "language_info": {
   "codemirror_mode": {
    "name": "ipython",
    "version": 3
   },
   "file_extension": ".py",
   "mimetype": "text/x-python",
   "name": "python",
   "nbconvert_exporter": "python",
   "pygments_lexer": "ipython3",
   "version": "3.10.12"
  }
 },
 "nbformat": 4,
 "nbformat_minor": 2
}
