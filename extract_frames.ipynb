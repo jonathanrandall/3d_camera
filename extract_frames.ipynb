{
 "cells": [
  {
   "cell_type": "code",
   "execution_count": 3,
   "metadata": {},
   "outputs": [],
   "source": [
    "import cv2\n",
    "import os\n"
   ]
  },
  {
   "cell_type": "code",
   "execution_count": 5,
   "metadata": {},
   "outputs": [],
   "source": [
    "def extract_frames(input_dir, output_dir):\n",
    "    # Create output directory if it doesn't exist\n",
    "    if not os.path.exists(output_dir):\n",
    "        os.makedirs(output_dir)\n",
    "\n",
    "    # Loop through each video file in the input directory\n",
    "    for filename in os.listdir(input_dir):\n",
    "        if filename.endswith(\".mp4\"):\n",
    "            video_path = os.path.join(input_dir, filename)\n",
    "            output_prefix = os.path.splitext(filename)[0]  # Extract the file name without extension\n",
    "\n",
    "            # Open the video file\n",
    "            cap = cv2.VideoCapture(video_path)\n",
    "\n",
    "            # Loop through each frame in the video\n",
    "            frame_count = 0\n",
    "            while cap.isOpened():\n",
    "                ret, frame = cap.read()\n",
    "                if not ret:\n",
    "                    break\n",
    "\n",
    "                frame_count += 1\n",
    "\n",
    "                # Write the frame to a JPEG file\n",
    "                output_filename = f\"{output_prefix}_{frame_count}.jpg\"\n",
    "                output_path = os.path.join(output_dir, output_filename)\n",
    "                cv2.imwrite(output_path, frame)\n",
    "\n",
    "            # Release the video capture object\n",
    "            cap.release()"
   ]
  },
  {
   "cell_type": "code",
   "execution_count": 6,
   "metadata": {},
   "outputs": [
    {
     "data": {
      "text/plain": [
       "False"
      ]
     },
     "execution_count": 6,
     "metadata": {},
     "output_type": "execute_result"
    }
   ],
   "source": [
    "input_directory = './from_pi/3d_camera/arducam/video_out'\n",
    "output_directory = './frames_out'\n",
    "\n",
    "os.path.exists(output_directory)\n"
   ]
  },
  {
   "cell_type": "code",
   "execution_count": 7,
   "metadata": {},
   "outputs": [],
   "source": [
    "extract_frames(input_directory, output_directory)"
   ]
  },
  {
   "cell_type": "code",
   "execution_count": 1,
   "metadata": {},
   "outputs": [],
   "source": [
    "#copy left and right images from the stereo image.\n",
    "import os\n",
    "import cv2\n",
    "\n",
    "def split_and_save_images(input_directory, output_left_directory, output_right_directory):\n",
    "    # Create output directories if they don't exist\n",
    "    os.makedirs(output_left_directory, exist_ok=True)\n",
    "    os.makedirs(output_right_directory, exist_ok=True)\n",
    "\n",
    "    # Get list of image files in the input directory, sorted alphabetically\n",
    "    image_files = sorted([file for file in os.listdir(input_directory) if file.endswith('.jpg')])\n",
    "\n",
    "    for filename in image_files:\n",
    "        # Read the image\n",
    "        image = cv2.imread(os.path.join(input_directory, filename))\n",
    "\n",
    "        # Get the height and width of the image\n",
    "        height, width, _ = image.shape\n",
    "\n",
    "        # Split the image into left and right halves\n",
    "        #cut sides off because stereo camera has wider angle lens than time of flight camera\n",
    "        left_half = image[45:225, 40:280,:]\n",
    "        right_half = image[45:225, 360:600,:]\n",
    "        \n",
    "        # Construct output filenames for left and right halves\n",
    "        left_filename = os.path.splitext(filename)[0] + \"_l.jpg\"\n",
    "        right_filename = os.path.splitext(filename)[0] + \"_r.jpg\"\n",
    "\n",
    "        # Save left and right halves to the output directories\n",
    "        cv2.imwrite(os.path.join(output_left_directory, left_filename), left_half)\n",
    "        cv2.imwrite(os.path.join(output_right_directory, right_filename), right_half)\n",
    "\n",
    "# Input directory containing the original images\n",
    "input_directory = \"./frames_out/stereo_out\"\n",
    "\n",
    "# Output directories for left and right halves\n",
    "output_left_directory = \"./frames_out/stereo_out/left\"\n",
    "output_right_directory = \"./frames_out/stereo_out/right\"\n",
    "\n",
    "# Split and save images into left and right halves\n",
    "split_and_save_images(input_directory, output_left_directory, output_right_directory)\n"
   ]
  }
 ],
 "metadata": {
  "kernelspec": {
   "display_name": "3d_cam_env",
   "language": "python",
   "name": "python3"
  },
  "language_info": {
   "codemirror_mode": {
    "name": "ipython",
    "version": 3
   },
   "file_extension": ".py",
   "mimetype": "text/x-python",
   "name": "python",
   "nbconvert_exporter": "python",
   "pygments_lexer": "ipython3",
   "version": "3.10.12"
  }
 },
 "nbformat": 4,
 "nbformat_minor": 2
}
